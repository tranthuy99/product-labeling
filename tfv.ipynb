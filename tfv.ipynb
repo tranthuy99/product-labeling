{
 "cells": [
  {
   "cell_type": "code",
   "execution_count": 2,
   "id": "66ee00c4",
   "metadata": {},
   "outputs": [],
   "source": [
    "import pandas as pd\n",
    "import numpy as np\n",
    "import seaborn as sns\n",
    "from wordcloud import WordCloud\n",
    "import matplotlib.pyplot as plt\n",
    "%matplotlib inline"
   ]
  },
  {
   "cell_type": "code",
   "execution_count": 11,
   "id": "63ecd183",
   "metadata": {},
   "outputs": [],
   "source": [
    "from sklearn.feature_extraction.text import CountVectorizer, TfidfVectorizer\n",
    "from sklearn.preprocessing import LabelEncoder\n",
    "from sklearn.metrics import classification_report, confusion_matrix, f1_score\n",
    "from sklearn.ensemble import RandomForestClassifier\n",
    "from sklearn.model_selection import GridSearchCV, StratifiedKFold\n",
    "from sklearn.naive_bayes import MultinomialNB\n",
    "from sklearn.linear_model import LogisticRegression"
   ]
  },
  {
   "cell_type": "code",
   "execution_count": 4,
   "id": "973df0e0",
   "metadata": {},
   "outputs": [],
   "source": [
    "df_train =  pd.read_csv('train_preprocessed.csv')\n",
    "df_test = pd.read_csv('test_preprocessed.csv')"
   ]
  },
  {
   "cell_type": "code",
   "execution_count": 5,
   "id": "9d15d84a",
   "metadata": {},
   "outputs": [],
   "source": [
    "df_train.processed = df_train.processed.apply(lambda x: x.replace('_', ' '))"
   ]
  },
  {
   "cell_type": "code",
   "execution_count": 6,
   "id": "36a0e693",
   "metadata": {},
   "outputs": [],
   "source": [
    "df_test.processed = df_test.processed.apply(lambda x: x.replace('_', ' '))"
   ]
  },
  {
   "cell_type": "code",
   "execution_count": 7,
   "id": "c4e11605",
   "metadata": {},
   "outputs": [
    {
     "data": {
      "text/html": [
       "<div>\n",
       "<style scoped>\n",
       "    .dataframe tbody tr th:only-of-type {\n",
       "        vertical-align: middle;\n",
       "    }\n",
       "\n",
       "    .dataframe tbody tr th {\n",
       "        vertical-align: top;\n",
       "    }\n",
       "\n",
       "    .dataframe thead th {\n",
       "        text-align: right;\n",
       "    }\n",
       "</style>\n",
       "<table border=\"1\" class=\"dataframe\">\n",
       "  <thead>\n",
       "    <tr style=\"text-align: right;\">\n",
       "      <th></th>\n",
       "      <th>label</th>\n",
       "      <th>processed</th>\n",
       "    </tr>\n",
       "  </thead>\n",
       "  <tbody>\n",
       "    <tr>\n",
       "      <th>57318</th>\n",
       "      <td>__label__12.0</td>\n",
       "      <td>cột tóc preciosa</td>\n",
       "    </tr>\n",
       "    <tr>\n",
       "      <th>62908</th>\n",
       "      <td>__label__12.0</td>\n",
       "      <td>túi xách cuci</td>\n",
       "    </tr>\n",
       "    <tr>\n",
       "      <th>23132</th>\n",
       "      <td>__label__14.0</td>\n",
       "      <td>đèn đọc sách kvart</td>\n",
       "    </tr>\n",
       "    <tr>\n",
       "      <th>26635</th>\n",
       "      <td>__label__14.0</td>\n",
       "      <td>kệ sách</td>\n",
       "    </tr>\n",
       "    <tr>\n",
       "      <th>17360</th>\n",
       "      <td>__label__11.0</td>\n",
       "      <td>mặt nạ the saem</td>\n",
       "    </tr>\n",
       "  </tbody>\n",
       "</table>\n",
       "</div>"
      ],
      "text/plain": [
       "               label           processed\n",
       "57318  __label__12.0    cột tóc preciosa\n",
       "62908  __label__12.0       túi xách cuci\n",
       "23132  __label__14.0  đèn đọc sách kvart\n",
       "26635  __label__14.0             kệ sách\n",
       "17360  __label__11.0     mặt nạ the saem"
      ]
     },
     "execution_count": 7,
     "metadata": {},
     "output_type": "execute_result"
    }
   ],
   "source": [
    "df_train.sample(5)"
   ]
  },
  {
   "cell_type": "code",
   "execution_count": 8,
   "id": "12a9e346",
   "metadata": {},
   "outputs": [
    {
     "data": {
      "text/html": [
       "<div>\n",
       "<style scoped>\n",
       "    .dataframe tbody tr th:only-of-type {\n",
       "        vertical-align: middle;\n",
       "    }\n",
       "\n",
       "    .dataframe tbody tr th {\n",
       "        vertical-align: top;\n",
       "    }\n",
       "\n",
       "    .dataframe thead th {\n",
       "        text-align: right;\n",
       "    }\n",
       "</style>\n",
       "<table border=\"1\" class=\"dataframe\">\n",
       "  <thead>\n",
       "    <tr style=\"text-align: right;\">\n",
       "      <th></th>\n",
       "      <th>label</th>\n",
       "      <th>processed</th>\n",
       "    </tr>\n",
       "  </thead>\n",
       "  <tbody>\n",
       "    <tr>\n",
       "      <th>7035</th>\n",
       "      <td>__label__24.0</td>\n",
       "      <td>đồ chơi benrikids</td>\n",
       "    </tr>\n",
       "    <tr>\n",
       "      <th>10315</th>\n",
       "      <td>__label__1.0</td>\n",
       "      <td>ốp lưng silicon huawei</td>\n",
       "    </tr>\n",
       "    <tr>\n",
       "      <th>12069</th>\n",
       "      <td>__label__1.0</td>\n",
       "      <td>tai nghe lighting hoco</td>\n",
       "    </tr>\n",
       "    <tr>\n",
       "      <th>10091</th>\n",
       "      <td>__label__1.0</td>\n",
       "      <td>tai nghe smartphone hoco</td>\n",
       "    </tr>\n",
       "    <tr>\n",
       "      <th>16118</th>\n",
       "      <td>__label__1.0</td>\n",
       "      <td>máy bay cánh</td>\n",
       "    </tr>\n",
       "  </tbody>\n",
       "</table>\n",
       "</div>"
      ],
      "text/plain": [
       "               label                 processed\n",
       "7035   __label__24.0         đồ chơi benrikids\n",
       "10315   __label__1.0    ốp lưng silicon huawei\n",
       "12069   __label__1.0    tai nghe lighting hoco\n",
       "10091   __label__1.0  tai nghe smartphone hoco\n",
       "16118   __label__1.0              máy bay cánh"
      ]
     },
     "execution_count": 8,
     "metadata": {},
     "output_type": "execute_result"
    }
   ],
   "source": [
    "df_test.sample(5)"
   ]
  },
  {
   "cell_type": "code",
   "execution_count": 9,
   "id": "07e67987",
   "metadata": {},
   "outputs": [],
   "source": [
    "CV = TfidfVectorizer(max_df=0.9,\n",
    "                     min_df=3,\n",
    "#                      ngram_range=(1, 2),\n",
    "#                      max_features=5000\n",
    "                    )\n",
    "lbencoder = LabelEncoder()"
   ]
  },
  {
   "cell_type": "code",
   "execution_count": 10,
   "id": "8bf7d5a8",
   "metadata": {},
   "outputs": [],
   "source": [
    "X_train = CV.fit_transform(df_train.processed)\n",
    "y_train = lbencoder.fit_transform(df_train.label)\n",
    "X_test = CV.transform(df_test['processed'])\n",
    "y_test = lbencoder.transform(df_test['label'])"
   ]
  },
  {
   "cell_type": "code",
   "execution_count": 10,
   "id": "1cd3f239",
   "metadata": {},
   "outputs": [
    {
     "data": {
      "text/plain": [
       "(87438, 9365)"
      ]
     },
     "execution_count": 10,
     "metadata": {},
     "output_type": "execute_result"
    }
   ],
   "source": [
    "X_train.shape"
   ]
  },
  {
   "cell_type": "code",
   "execution_count": 11,
   "id": "75a8b950",
   "metadata": {},
   "outputs": [],
   "source": [
    "param_grid = [\n",
    "{'n_estimators': [10, 30], 'max_features': [.5, .7, .9], 'class_weight':['balanced']}, \n",
    "# {'bootstrap': [False], 'n_estimators': [3, 10], 'max_features': [2, 3, 4], 'class_weight':['balanced']},\n",
    "]\n",
    "RF = RandomForestClassifier()"
   ]
  },
  {
   "cell_type": "code",
   "execution_count": null,
   "id": "84c6d83d",
   "metadata": {},
   "outputs": [
    {
     "name": "stdout",
     "output_type": "stream",
     "text": [
      "Fitting 5 folds for each of 6 candidates, totalling 30 fits\n"
     ]
    },
    {
     "name": "stderr",
     "output_type": "stream",
     "text": [
      "[Parallel(n_jobs=-1)]: Using backend LokyBackend with 4 concurrent workers.\n"
     ]
    }
   ],
   "source": [
    "%%time\n",
    "gsCV = GridSearchCV(RF, param_grid=param_grid, cv=5, scoring='f1_macro', return_train_score=True, verbose=3, n_jobs=-1)\n",
    "gsCV.fit(X_train, y_train)"
   ]
  },
  {
   "cell_type": "code",
   "execution_count": null,
   "id": "d1c18d41",
   "metadata": {},
   "outputs": [],
   "source": [
    "gsCV.best_estimator_"
   ]
  },
  {
   "cell_type": "code",
   "execution_count": null,
   "id": "8d138054",
   "metadata": {},
   "outputs": [],
   "source": [
    "gsCV.best_score_"
   ]
  },
  {
   "cell_type": "code",
   "execution_count": 14,
   "id": "e79865d5",
   "metadata": {},
   "outputs": [],
   "source": [
    "from sklearn.base import clone"
   ]
  },
  {
   "cell_type": "code",
   "execution_count": 13,
   "id": "9c2547c1",
   "metadata": {},
   "outputs": [],
   "source": [
    "kfold = StratifiedKFold(n_splits=5, random_state=2)"
   ]
  },
  {
   "cell_type": "code",
   "execution_count": null,
   "id": "0b0065eb",
   "metadata": {},
   "outputs": [],
   "source": [
    "%%time\n",
    "for train_index, test_index in kfold.split(X_train, y_train):\n",
    "    clone_clf = clone(RF)\n",
    "    X_train_folds = X_train[train_index]\n",
    "    y_train_folds = (y_train[train_index])\n",
    "    X_test_fold = X_train[test_index]\n",
    "    y_test_fold = (y_train[test_index])\n",
    "    clone_clf.fit(X_train_folds, y_train_folds)\n",
    "    y_pred = clone_clf.predict(X_test_fold)\n",
    "    print(f1_score(y_test_fold, y_pred, average='macro')) "
   ]
  },
  {
   "cell_type": "code",
   "execution_count": null,
   "id": "4d9918e6",
   "metadata": {
    "scrolled": false
   },
   "outputs": [],
   "source": [
    "gsCV.cv_results_"
   ]
  },
  {
   "cell_type": "code",
   "execution_count": null,
   "id": "80b1dbd4",
   "metadata": {},
   "outputs": [],
   "source": []
  },
  {
   "cell_type": "code",
   "execution_count": null,
   "id": "d4b78c87",
   "metadata": {},
   "outputs": [],
   "source": [
    "%%time\n",
    "RF = RandomForestClassifier(bootstrap=True, class_weight='balanced',\n",
    "                       criterion='gini', max_features=0.5,\n",
    "                       max_leaf_nodes=None, min_impurity_decrease=0.0,\n",
    "                       min_impurity_split=None, min_samples_leaf=1,\n",
    "                       min_samples_split=2, min_weight_fraction_leaf=0.0,\n",
    "                       n_estimators=50, n_jobs=None, oob_score=False,\n",
    "                       random_state=None, verbose=0, warm_start=False)\n",
    "RF.fit(X_train, y_train)"
   ]
  },
  {
   "cell_type": "code",
   "execution_count": null,
   "id": "499e1281",
   "metadata": {
    "scrolled": false
   },
   "outputs": [],
   "source": [
    "y_test_pred = RF.predict(X_test)\n",
    "y_train_pred = RF.predict(X_train)\n",
    "print('\\033[5;33;40m'+'*'*62+f\"\\n{'*'*17:20} \\033[0;0m{'test set':^20}\\033[5;33;40m {'*'*17:>20}\\n{'*'*62}\\n\\033[5;33;47m\")\n",
    "df_cm = pd.DataFrame(confusion_matrix(y_test, y_test_pred), index = lbencoder.classes_,\n",
    "                  columns = lbencoder.classes_)\n",
    "plt.figure(figsize = (10,7))\n",
    "sns.heatmap(df_cm, annot=True, fmt='d')\n",
    "print(classification_report(y_test,  y_test_pred,  target_names=lbencoder.inverse_transform(range(7))))\n",
    "\n",
    "plt.show()\n",
    "print('\\033[5;37;40m'+'*'*62+f\"\\n{'*'*17:20} {'train set':^20} {'*'*17:>20}\\n{'*'*62}\\n\")\n",
    "print(classification_report(y_train,  y_train_pred,  target_names=lbencoder.inverse_transform(range(7))))\n",
    "df_cm = pd.DataFrame(confusion_matrix(y_train, y_train_pred), index = lbencoder.classes_,\n",
    "                  columns = lbencoder.classes_)\n",
    "plt.figure(figsize = (10,7))\n",
    "sns.heatmap(df_cm, annot=True, fmt='d')\n",
    "plt.show()\n",
    "\n"
   ]
  },
  {
   "cell_type": "code",
   "execution_count": null,
   "id": "50136267",
   "metadata": {},
   "outputs": [],
   "source": []
  },
  {
   "cell_type": "code",
   "execution_count": 33,
   "id": "52099eca",
   "metadata": {},
   "outputs": [
    {
     "name": "stdout",
     "output_type": "stream",
     "text": [
      "\u001b[1;33malpha=0.001\u001b[0;35m\n",
      "(0.8134016220363814, 0.8748725835099916)\n",
      "(0.7853802856931595, 0.8846768460588945)\n",
      "(0.7253702517541789, 0.8859853366707172)\n",
      "(0.7478095041920655, 0.8888585557827712)\n",
      "(0.7312996714880392, 0.8900031854011587)\n",
      "------------------------------\n",
      "0.760652267032765 0.8848793014847066\n",
      "\n",
      "\n",
      "\u001b[1;33malpha=0.01\u001b[0;35m\n",
      "(0.8208940516107666, 0.8745965584756519)\n",
      "(0.7920899341981527, 0.8841040698451582)\n",
      "(0.7330874204216057, 0.8852193617096668)\n",
      "(0.7523617926138384, 0.8892764491579909)\n",
      "(0.7409218850591631, 0.8890103642799067)\n",
      "------------------------------\n",
      "0.7678710167807052 0.884441360693675\n",
      "\n",
      "\n",
      "\u001b[1;33malpha=0.1\u001b[0;35m\n",
      "(0.8328591262699482, 0.8672857173023859)\n",
      "(0.8015166827276967, 0.8784606674425743)\n",
      "(0.74414371077896, 0.8801639827740259)\n",
      "(0.7644230298501752, 0.882922222009471)\n",
      "(0.7581751796593006, 0.8836911400736759)\n",
      "------------------------------\n",
      "0.7802235458572161 0.8785047459204266\n",
      "\n",
      "\n",
      "\u001b[1;33malpha=1\u001b[0;35m\n",
      "(0.7795519840154792, 0.7988585889844629)\n",
      "(0.7389934579461148, 0.8097160294959341)\n",
      "(0.7128747009796635, 0.8070782776718268)\n",
      "(0.7134917295123879, 0.8172093341054384)\n",
      "(0.6939685189787002, 0.8172888103089376)\n",
      "------------------------------\n",
      "0.7277760782864691 0.81003020811332\n",
      "\n",
      "\n",
      "\u001b[1;33malpha=10\u001b[0;35m\n"
     ]
    },
    {
     "name": "stderr",
     "output_type": "stream",
     "text": [
      "c:\\users\\admin\\appdata\\local\\programs\\python\\python37\\lib\\site-packages\\sklearn\\metrics\\classification.py:1437: UndefinedMetricWarning: F-score is ill-defined and being set to 0.0 in labels with no predicted samples.\n",
      "  'precision', 'predicted', average, warn_for)\n",
      "c:\\users\\admin\\appdata\\local\\programs\\python\\python37\\lib\\site-packages\\sklearn\\metrics\\classification.py:1437: UndefinedMetricWarning: F-score is ill-defined and being set to 0.0 in labels with no predicted samples.\n",
      "  'precision', 'predicted', average, warn_for)\n",
      "c:\\users\\admin\\appdata\\local\\programs\\python\\python37\\lib\\site-packages\\sklearn\\metrics\\classification.py:1437: UndefinedMetricWarning: F-score is ill-defined and being set to 0.0 in labels with no predicted samples.\n",
      "  'precision', 'predicted', average, warn_for)\n",
      "c:\\users\\admin\\appdata\\local\\programs\\python\\python37\\lib\\site-packages\\sklearn\\metrics\\classification.py:1437: UndefinedMetricWarning: F-score is ill-defined and being set to 0.0 in labels with no predicted samples.\n",
      "  'precision', 'predicted', average, warn_for)\n"
     ]
    },
    {
     "name": "stdout",
     "output_type": "stream",
     "text": [
      "(0.5474788714128301, 0.5598711924323369)\n",
      "(0.5412765711615487, 0.5682216666425047)\n",
      "(0.5257161323219856, 0.5657328323675614)\n",
      "(0.5266995570013386, 0.571902265553414)\n",
      "(0.523094314820196, 0.5739118195422627)\n",
      "------------------------------\n",
      "0.5328530893435798 0.567927955307616\n",
      "\n",
      "\n",
      "Wall time: 1.78 s\n"
     ]
    },
    {
     "name": "stderr",
     "output_type": "stream",
     "text": [
      "c:\\users\\admin\\appdata\\local\\programs\\python\\python37\\lib\\site-packages\\sklearn\\metrics\\classification.py:1437: UndefinedMetricWarning: F-score is ill-defined and being set to 0.0 in labels with no predicted samples.\n",
      "  'precision', 'predicted', average, warn_for)\n"
     ]
    }
   ],
   "source": [
    "%%time\n",
    "for alpha in [0.001, 0.01, 0.1, 1, 10]:\n",
    "    print('\\033[1;33malpha='+str(alpha)+'\\033[0;35m')\n",
    "    f1_test, f1_train=[], []\n",
    "    lgt = MultinomialNB(alpha=alpha)\n",
    "    for train_index, test_index in kfold.split(X_train, y_train):\n",
    "        clone_clf = clone(lgt)\n",
    "        X_train_folds = X_train[train_index]\n",
    "        y_train_folds = (y_train[train_index])\n",
    "        X_test_fold = X_train[test_index]\n",
    "        y_test_fold = (y_train[test_index])\n",
    "        clone_clf.fit(X_train_folds, y_train_folds)\n",
    "        y_pred = clone_clf.predict(X_test_fold)\n",
    "        f1_test.append(f1_score(y_test_fold, y_pred, average='macro'))\n",
    "        f1_train.append(f1_score(y_train_folds, clone_clf.predict(X_train_folds), average='macro'))\n",
    "    for pair in zip(f1_test, f1_train):\n",
    "        print(pair)\n",
    "    print('-'*30)\n",
    "    print(np.mean(f1_test), np.mean(f1_train))\n",
    "    print('\\n')"
   ]
  },
  {
   "cell_type": "code",
   "execution_count": 34,
   "id": "655bbcb4",
   "metadata": {},
   "outputs": [],
   "source": [
    "nvbs = MultinomialNB(alpha=0.1)"
   ]
  },
  {
   "cell_type": "code",
   "execution_count": 35,
   "id": "7889656d",
   "metadata": {},
   "outputs": [
    {
     "name": "stdout",
     "output_type": "stream",
     "text": [
      "Wall time: 31.9 ms\n"
     ]
    },
    {
     "data": {
      "text/plain": [
       "MultinomialNB(alpha=0.1, class_prior=None, fit_prior=True)"
      ]
     },
     "execution_count": 35,
     "metadata": {},
     "output_type": "execute_result"
    }
   ],
   "source": [
    "%%time\n",
    "nvbs.fit(X_train, y_train)"
   ]
  },
  {
   "cell_type": "code",
   "execution_count": 36,
   "id": "75d1e2bd",
   "metadata": {},
   "outputs": [
    {
     "name": "stdout",
     "output_type": "stream",
     "text": [
      "\u001b[5;33;40m**************************************************************\n",
      "*****************          test set          *****************\n",
      "**************************************************************\n",
      "\n",
      "               precision    recall  f1-score   support\n",
      "\n",
      " __label__1.0       0.88      0.89      0.88      5023\n",
      "__label__11.0       0.85      0.84      0.84      1739\n",
      "__label__12.0       0.84      0.92      0.88      6203\n",
      "__label__14.0       0.78      0.80      0.79      4059\n",
      "__label__16.0       0.92      0.75      0.83       316\n",
      "__label__24.0       0.74      0.42      0.54      1341\n",
      " __label__9.0       0.76      0.65      0.70       498\n",
      "\n",
      "     accuracy                           0.83     19179\n",
      "    macro avg       0.82      0.75      0.78     19179\n",
      " weighted avg       0.83      0.83      0.83     19179\n",
      "\n"
     ]
    },
    {
     "data": {
      "image/png": "[encoded data removed]",
      "text/plain": [
       "<Figure size 720x504 with 2 Axes>"
      ]
     },
     "metadata": {
      "needs_background": "light"
     },
     "output_type": "display_data"
    },
    {
     "name": "stdout",
     "output_type": "stream",
     "text": [
      "\u001b[5;33;40m**************************************************************\n",
      "*****************         train set          *****************\n",
      "**************************************************************\n",
      "\n",
      "               precision    recall  f1-score   support\n",
      "\n",
      " __label__1.0       0.91      0.91      0.91     17306\n",
      "__label__11.0       0.92      0.92      0.92     13883\n",
      "__label__12.0       0.91      0.96      0.93     20734\n",
      "__label__14.0       0.87      0.90      0.88     22504\n",
      "__label__16.0       0.94      0.73      0.82      1586\n",
      "__label__24.0       0.90      0.72      0.80      6316\n",
      " __label__9.0       0.89      0.82      0.86      5109\n",
      "\n",
      "     accuracy                           0.90     87438\n",
      "    macro avg       0.90      0.85      0.87     87438\n",
      " weighted avg       0.90      0.90      0.90     87438\n",
      "\n"
     ]
    },
    {
     "data": {
      "image/png": "[encoded data removed]",
      "text/plain": [
       "<Figure size 720x504 with 2 Axes>"
      ]
     },
     "metadata": {
      "needs_background": "light"
     },
     "output_type": "display_data"
    }
   ],
   "source": [
    "y_test_pred = nvbs.predict(X_test)\n",
    "y_train_pred = nvbs.predict(X_train)\n",
    "\n",
    "print('\\033[5;33;40m'+'*'*62+f\"\\n{'*'*17:20} {'test set':^20} {'*'*17:>20}\\n{'*'*62}\\n\")\n",
    "df_cm = pd.DataFrame(confusion_matrix(y_test, y_test_pred), index = lbencoder.classes_,\n",
    "                  columns = lbencoder.classes_)\n",
    "plt.figure(figsize = (10,7))\n",
    "sns.heatmap(df_cm, annot=True, fmt='d')\n",
    "print(classification_report(y_test,  y_test_pred,  target_names=lbencoder.inverse_transform(range(7))))\n",
    "\n",
    "plt.show()\n",
    "\n",
    "print('\\033[5;33;40m'+'*'*62+f\"\\n{'*'*17:20} {'train set':^20} {'*'*17:>20}\\n{'*'*62}\\n\")\n",
    "print(classification_report(y_train,  y_train_pred,  target_names=lbencoder.inverse_transform(range(7))))\n",
    "df_cm = pd.DataFrame(confusion_matrix(y_train, y_train_pred), index = lbencoder.classes_,\n",
    "                  columns = lbencoder.classes_)\n",
    "plt.figure(figsize = (10,7))\n",
    "sns.heatmap(df_cm, annot=True, fmt='d')\n",
    "plt.show()\n",
    "\n"
   ]
  },
  {
   "cell_type": "code",
   "execution_count": null,
   "id": "b20f1a27",
   "metadata": {},
   "outputs": [],
   "source": []
  },
  {
   "cell_type": "code",
   "execution_count": null,
   "id": "4b7b7a71",
   "metadata": {},
   "outputs": [],
   "source": [
    "# from sklearn.preprocessing import "
   ]
  },
  {
   "cell_type": "code",
   "execution_count": 25,
   "id": "d41a02b3",
   "metadata": {},
   "outputs": [],
   "source": [
    "param_grid = [\n",
    "{'penalty':['l2', 'none'], 'C':[0.1, 1, 10], 'solver':['lbfgs', 'newton-cg'], 'max_iter':[10000], 'class_weight':['balanced']}, \n",
    "]\n",
    "lgt = LogisticRegression()"
   ]
  },
  {
   "cell_type": "code",
   "execution_count": null,
   "id": "af3256dc",
   "metadata": {},
   "outputs": [
    {
     "name": "stdout",
     "output_type": "stream",
     "text": [
      "Fitting 5 folds for each of 4 candidates, totalling 20 fits\n"
     ]
    },
    {
     "name": "stderr",
     "output_type": "stream",
     "text": [
      "[Parallel(n_jobs=-1)]: Using backend LokyBackend with 4 concurrent workers.\n"
     ]
    }
   ],
   "source": [
    "%%time\n",
    "gsCV = GridSearchCV(lgt, param_grid=param_grid, cv=5, scoring='f1_macro', return_train_score=True, verbose=3, n_jobs=-1)\n",
    "gsCV.fit(X_train, y_train)"
   ]
  },
  {
   "cell_type": "code",
   "execution_count": 31,
   "id": "11a36e13",
   "metadata": {},
   "outputs": [
    {
     "name": "stdout",
     "output_type": "stream",
     "text": [
      "\u001b[1;33mC=0.1\u001b[0;35m\n",
      "(0.765040499360678, 0.7779069728484976)\n",
      "(0.7426987847248745, 0.7961438394252086)\n",
      "(0.7508233572283801, 0.7949296850971389)\n",
      "(0.6979459110481855, 0.7984011527916639)\n",
      "(0.699711335277379, 0.8001825319982548)\n",
      "------------------------------\n",
      "0.7312439775278994 0.7935128364321528\n",
      "\n",
      "\n",
      "\u001b[1;33mC=1\u001b[0;35m\n",
      "(0.8196146998638906, 0.8580609750391046)\n",
      "(0.7879507245582832, 0.8705164330084477)\n",
      "(0.7775679960747474, 0.8701059321726811)\n",
      "(0.7503594313640062, 0.8738366846060798)\n",
      "(0.7515349203289812, 0.8773941778433298)\n",
      "------------------------------\n",
      "0.7774055544379816 0.8699828405339286\n",
      "\n",
      "\n",
      "\u001b[1;33mC=10\u001b[0;35m\n",
      "(0.8210196515003546, 0.8884128437008553)\n",
      "(0.7881537487800544, 0.9004946198298801)\n",
      "(0.7686210671099427, 0.9021887215989892)\n",
      "(0.7506232525905246, 0.9029673350642947)\n",
      "(0.7474094859747976, 0.9060264280041356)\n",
      "------------------------------\n",
      "0.7751654411911348 0.9000179896396311\n",
      "\n",
      "\n",
      "Wall time: 4min 39s\n"
     ]
    }
   ],
   "source": [
    "%%time\n",
    "for C in [0.1, 1, 10]:\n",
    "    print('\\033[1;33mC='+str(C)+'\\033[0;35m')\n",
    "    f1_test, f1_train=[], []\n",
    "    lgt = LogisticRegression(solver='lbfgs', penalty='l2', C=C, multi_class='auto', max_iter=10000, class_weight='balanced')\n",
    "\n",
    "    for train_index, test_index in kfold.split(X_train, y_train):\n",
    "        clone_clf = clone(lgt)\n",
    "        X_train_folds = X_train[train_index]\n",
    "        y_train_folds = (y_train[train_index])\n",
    "        X_test_fold = X_train[test_index]\n",
    "        y_test_fold = (y_train[test_index])\n",
    "        clone_clf.fit(X_train_folds, y_train_folds)\n",
    "        y_pred = clone_clf.predict(X_test_fold)\n",
    "        f1_test.append(f1_score(y_test_fold, y_pred, average='macro'))\n",
    "        f1_train.append(f1_score(y_train_folds, clone_clf.predict(X_train_folds), average='macro'))\n",
    "    for pair in zip(f1_test, f1_train):\n",
    "        print(pair)\n",
    "    print('-'*30)\n",
    "    print(np.mean(f1_test), np.mean(f1_train))\n",
    "    print('\\n')"
   ]
  },
  {
   "cell_type": "code",
   "execution_count": 30,
   "id": "448ba457",
   "metadata": {},
   "outputs": [
    {
     "name": "stdout",
     "output_type": "stream",
     "text": [
      "solver newton-cg\n",
      "\u001b[1;33mC=0.1\u001b[0;35m\n",
      "(0.765040499360678, 0.7779069728484976)\n",
      "(0.7427163674890258, 0.7961438394252086)\n",
      "(0.7508233572283801, 0.7949791328949638)\n",
      "(0.6979459110481855, 0.7983830954026996)\n",
      "(0.6996106554958088, 0.8000944486317777)\n",
      "------------------------------\n",
      "0.7312273581244156 0.7935014978406294\n",
      "\n",
      "\n",
      "\u001b[1;33mC=1\u001b[0;35m\n",
      "(0.8197323051096818, 0.8581010413370012)\n",
      "(0.7879947089633268, 0.8704421532289537)\n",
      "(0.7775333427436593, 0.8700901508112049)\n",
      "(0.7503594313640062, 0.8738366846060798)\n",
      "(0.7515349203289812, 0.8773685220886142)\n",
      "------------------------------\n",
      "0.777430941701931 0.8699677104143706\n",
      "\n",
      "\n",
      "\u001b[1;33mC=10\u001b[0;35m\n",
      "(0.8210946273433525, 0.8883828358470758)\n",
      "(0.7882936500426467, 0.900503916991199)\n",
      "(0.7686210671099427, 0.9022082469301533)\n",
      "(0.7506771321262763, 0.9029129285049953)\n",
      "(0.7473636667979618, 0.9059990663692007)\n",
      "------------------------------\n",
      "0.7752100286840359 0.9000013989285248\n",
      "\n",
      "\n",
      "Wall time: 1min 53s\n"
     ]
    }
   ],
   "source": [
    "%%time\n",
    "print('solver newton-cg')\n",
    "for C in [0.1, 1, 10]:\n",
    "    print('\\033[1;33mC='+str(C)+'\\033[0;35m')\n",
    "    f1_test, f1_train=[], []\n",
    "    lgt = LogisticRegression(solver='newton-cg', penalty='l2', C=C, multi_class='auto', max_iter=10000, class_weight='balanced')\n",
    "\n",
    "    for train_index, test_index in kfold.split(X_train, y_train):\n",
    "        clone_clf = clone(lgt)\n",
    "        X_train_folds = X_train[train_index]\n",
    "        y_train_folds = (y_train[train_index])\n",
    "        X_test_fold = X_train[test_index]\n",
    "        y_test_fold = (y_train[test_index])\n",
    "        clone_clf.fit(X_train_folds, y_train_folds)\n",
    "        y_pred = clone_clf.predict(X_test_fold)\n",
    "        f1_test.append(f1_score(y_test_fold, y_pred, average='macro'))\n",
    "        f1_train.append(f1_score(y_train_folds, clone_clf.predict(X_train_folds), average='macro'))\n",
    "    for pair in zip(f1_test, f1_train):\n",
    "        print(pair)\n",
    "    print('-'*30)\n",
    "    print(np.mean(f1_test), np.mean(f1_train))\n",
    "    print('\\n')"
   ]
  },
  {
   "cell_type": "code",
   "execution_count": null,
   "id": "861e5241",
   "metadata": {},
   "outputs": [],
   "source": []
  },
  {
   "cell_type": "code",
   "execution_count": 26,
   "id": "cf24456c",
   "metadata": {},
   "outputs": [
    {
     "name": "stdout",
     "output_type": "stream",
     "text": [
      "\u001b[4mlbfgs none penalty\u001b[0;0m\n",
      "\n",
      "(0.8196146998638906, 0.8580609750391046)\n",
      "(0.7879507245582832, 0.8705164330084477)\n",
      "(0.7775679960747474, 0.8701059321726811)\n",
      "(0.7503594313640062, 0.8738366846060798)\n",
      "(0.7515349203289812, 0.8773941778433298)\n",
      "------------------------------\n",
      "0.7774055544379816 0.8699828405339286\n",
      "\u001b[4mnewton-cg none penalty\u001b[0;0m\n",
      "\n",
      "(0.8197323051096818, 0.8581010413370012)\n",
      "(0.7879947089633268, 0.8704421532289537)\n",
      "(0.7775333427436593, 0.8700901508112049)\n",
      "(0.7503594313640062, 0.8738366846060798)\n",
      "(0.7515349203289812, 0.8773685220886142)\n",
      "------------------------------\n",
      "0.777430941701931 0.8699677104143706\n",
      "Wall time: 1min 52s\n"
     ]
    }
   ],
   "source": [
    "%%time\n",
    "for solver in ['lbfgs', 'newton-cg']:\n",
    "    print('\\033[4m'+str(solver)+' no penalty\\033[0;0m\\n')\n",
    "    f1_test, f1_train=[], []\n",
    "    for train_index, test_index in kfold.split(X_train, y_train):        \n",
    "        clone_clf = clone(LogisticRegression(solver=solver, multi_class='auto', max_iter=10000, class_weight='balanced'))\n",
    "        X_train_folds = X_train[train_index]\n",
    "        y_train_folds = (y_train[train_index])\n",
    "        X_test_fold = X_train[test_index]\n",
    "        y_test_fold = (y_train[test_index])\n",
    "        clone_clf.fit(X_train_folds, y_train_folds)\n",
    "        y_pred = clone_clf.predict(X_test_fold)\n",
    "        f1_test.append(f1_score(y_test_fold, y_pred, average='macro'))\n",
    "        f1_train.append(f1_score(y_train_folds, clone_clf.predict(X_train_folds), average='macro'))\n",
    "    for pair in zip(f1_test, f1_train):\n",
    "        print(pair)\n",
    "    print('-'*30)\n",
    "    print(np.mean(f1_test), np.mean(f1_train))\n",
    "    print('\\n')"
   ]
  },
  {
   "cell_type": "code",
   "execution_count": 37,
   "id": "f82dc737",
   "metadata": {},
   "outputs": [],
   "source": [
    "lgt = LogisticRegression(solver='lbfgs', penalty='l2', C=1, multi_class='auto', max_iter=10000, class_weight='balanced')"
   ]
  },
  {
   "cell_type": "code",
   "execution_count": 38,
   "id": "9880b18d",
   "metadata": {},
   "outputs": [
    {
     "name": "stdout",
     "output_type": "stream",
     "text": [
      "Wall time: 19.4 s\n"
     ]
    },
    {
     "data": {
      "text/plain": [
       "LogisticRegression(C=1, class_weight='balanced', dual=False, fit_intercept=True,\n",
       "                   intercept_scaling=1, l1_ratio=None, max_iter=10000,\n",
       "                   multi_class='auto', n_jobs=None, penalty='l2',\n",
       "                   random_state=None, solver='lbfgs', tol=0.0001, verbose=0,\n",
       "                   warm_start=False)"
      ]
     },
     "execution_count": 38,
     "metadata": {},
     "output_type": "execute_result"
    }
   ],
   "source": [
    "%%time\n",
    "lgt.fit(X_train, y_train)"
   ]
  },
  {
   "cell_type": "code",
   "execution_count": 39,
   "id": "67189d36",
   "metadata": {
    "scrolled": false
   },
   "outputs": [
    {
     "name": "stdout",
     "output_type": "stream",
     "text": [
      "\u001b[5;33;40m**************************************************************\n",
      "*****************          test set          *****************\n",
      "**************************************************************\n",
      "\n",
      "               precision    recall  f1-score   support\n",
      "\n",
      " __label__1.0       0.89      0.89      0.89      5023\n",
      "__label__11.0       0.85      0.84      0.84      1739\n",
      "__label__12.0       0.88      0.86      0.87      6203\n",
      "__label__14.0       0.81      0.76      0.78      4059\n",
      "__label__16.0       0.40      0.86      0.55       316\n",
      "__label__24.0       0.61      0.56      0.58      1341\n",
      " __label__9.0       0.58      0.79      0.67       498\n",
      "\n",
      "     accuracy                           0.82     19179\n",
      "    macro avg       0.72      0.79      0.74     19179\n",
      " weighted avg       0.83      0.82      0.82     19179\n",
      "\n"
     ]
    },
    {
     "data": {
      "image/png": "[encoded data removed]",
      "text/plain": [
       "<Figure size 720x504 with 2 Axes>"
      ]
     },
     "metadata": {
      "needs_background": "light"
     },
     "output_type": "display_data"
    },
    {
     "name": "stdout",
     "output_type": "stream",
     "text": [
      "\u001b[5;33;40m**************************************************************\n",
      "*****************         train set          *****************\n",
      "**************************************************************\n",
      "\n",
      "               precision    recall  f1-score   support\n",
      "\n",
      " __label__1.0       0.92      0.90      0.91     17306\n",
      "__label__11.0       0.93      0.91      0.92     13883\n",
      "__label__12.0       0.93      0.94      0.94     20734\n",
      "__label__14.0       0.92      0.85      0.88     22504\n",
      "__label__16.0       0.62      0.95      0.75      1586\n",
      "__label__24.0       0.78      0.83      0.81      6316\n",
      " __label__9.0       0.80      0.92      0.86      5109\n",
      "\n",
      "     accuracy                           0.90     87438\n",
      "    macro avg       0.84      0.90      0.87     87438\n",
      " weighted avg       0.90      0.90      0.90     87438\n",
      "\n"
     ]
    },
    {
     "data": {
      "image/png": "[encoded data removed]",
      "text/plain": [
       "<Figure size 720x504 with 2 Axes>"
      ]
     },
     "metadata": {
      "needs_background": "light"
     },
     "output_type": "display_data"
    }
   ],
   "source": [
    "y_test_pred = lgt.predict(X_test)\n",
    "y_train_pred = lgt.predict(X_train)\n",
    "\n",
    "print('\\033[5;33;40m'+'*'*62+f\"\\n{'*'*17:20} {'test set':^20} {'*'*17:>20}\\n{'*'*62}\\n\")\n",
    "df_cm = pd.DataFrame(confusion_matrix(y_test, y_test_pred), index = lbencoder.classes_,\n",
    "                  columns = lbencoder.classes_)\n",
    "plt.figure(figsize = (10,7))\n",
    "sns.heatmap(df_cm, annot=True, fmt='d')\n",
    "print(classification_report(y_test,  y_test_pred,  target_names=lbencoder.inverse_transform(range(7))))\n",
    "\n",
    "plt.show()\n",
    "\n",
    "print('\\033[5;33;40m'+'*'*62+f\"\\n{'*'*17:20} {'train set':^20} {'*'*17:>20}\\n{'*'*62}\\n\")\n",
    "print(classification_report(y_train,  y_train_pred,  target_names=lbencoder.inverse_transform(range(7))))\n",
    "df_cm = pd.DataFrame(confusion_matrix(y_train, y_train_pred), index = lbencoder.classes_,\n",
    "                  columns = lbencoder.classes_)\n",
    "plt.figure(figsize = (10,7))\n",
    "sns.heatmap(df_cm, annot=True, fmt='d')\n",
    "plt.show()\n",
    "\n"
   ]
  },
  {
   "cell_type": "code",
   "execution_count": null,
   "id": "e4318a7d",
   "metadata": {},
   "outputs": [],
   "source": []
  }
 ],
 "metadata": {
  "kernelspec": {
   "display_name": "Python 3",
   "language": "python",
   "name": "python3"
  },
  "language_info": {
   "codemirror_mode": {
    "name": "ipython",
    "version": 3
   },
   "file_extension": ".py",
   "mimetype": "text/x-python",
   "name": "python",
   "nbconvert_exporter": "python",
   "pygments_lexer": "ipython3",
   "version": "3.7.9"
  }
 },
 "nbformat": 4,
 "nbformat_minor": 5
}
